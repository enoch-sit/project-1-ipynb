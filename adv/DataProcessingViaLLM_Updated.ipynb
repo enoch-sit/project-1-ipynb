{
 "cells": [
  {
   "cell_type": "markdown",
   "id": "c6fd3fa1",
   "metadata": {},
   "source": [
    "# Document Q&A System with AWS Bedrock\n",
    "\n",
    "This notebook demonstrates how to build a question-answering system over documents using:\n",
    "- **AWS Bedrock** (Amazon Nova Lite) for LLM capabilities\n",
    "- **Wikipedia API** to fetch current events data\n",
    "- **Embeddings and Vector Search** for document retrieval\n",
    "\n",
    "Based on concepts from LangChain's document Q&A approach."
   ]
  },
  {
   "cell_type": "markdown",
   "id": "6a55534e",
   "metadata": {},
   "source": [
    "## Setup and Installation\n",
    "\n",
    "First, let's install the required packages."
   ]
  },
  {
   "cell_type": "code",
   "execution_count": null,
   "id": "d517d247",
   "metadata": {},
   "outputs": [],
   "source": [
    "!pip install boto3 wikipedia-api numpy scikit-learn requests beautifulsoup4 -q"
   ]
  },
  {
   "cell_type": "markdown",
   "id": "aebb7658",
   "metadata": {},
   "source": [
    "## Import Dependencies"
   ]
  },
  {
   "cell_type": "code",
   "execution_count": null,
   "id": "cdefcf8a",
   "metadata": {},
   "outputs": [],
   "source": [
    "import boto3\n",
    "import json\n",
    "import numpy as np\n",
    "from sklearn.metrics.pairwise import cosine_similarity\n",
    "import requests\n",
    "from bs4 import BeautifulSoup\n",
    "from typing import List, Dict, Tuple\n",
    "import re\n",
    "from datetime import datetime"
   ]
  },
  {
   "cell_type": "markdown",
   "id": "8c9adaae",
   "metadata": {},
   "source": [
    "## Configure AWS Bedrock\n",
    "\n",
    "Set up your AWS credentials using Google Colab userdata (secrets) and initialize the Bedrock client.\n",
    "\n",
    "**Note:** Make sure to set up your AWS credentials in Colab secrets:\n",
    "- Go to the 🔑 icon in the left sidebar of Google Colab\n",
    "- Add secret named `awsid` with your AWS Access Key ID\n",
    "- Add secret named `awssecret` with your AWS Secret Access Key"
   ]
  },
  {
   "cell_type": "code",
   "execution_count": null,
   "id": "08a0931a",
   "metadata": {},
   "outputs": [],
   "source": [
    "# Import Google Colab userdata for secure credential access\n",
    "from google.colab import userdata\n",
    "\n",
    "# Configure your AWS credentials using Colab secrets\n",
    "AWS_ACCESS_KEY_ID = userdata.get('awsid')  # Set this in Colab secrets\n",
    "AWS_SECRET_ACCESS_KEY = userdata.get('awssecret')  # Set this in Colab secrets\n",
    "AWS_REGION = \"us-east-1\"  # Change if needed\n",
    "\n",
    "# Initialize Bedrock client\n",
    "bedrock_runtime = boto3.client(\n",
    "    service_name='bedrock-runtime',\n",
    "    region_name=AWS_REGION,\n",
    "    aws_access_key_id=AWS_ACCESS_KEY_ID,\n",
    "    aws_secret_access_key=AWS_SECRET_ACCESS_KEY\n",
    ")\n",
    "\n",
    "print(\"✓ AWS Bedrock client initialized\")"
   ]
  }
 ],
 "metadata": {
  "language_info": {
   "name": "python"
  }
 },
 "nbformat": 4,
 "nbformat_minor": 5
}
