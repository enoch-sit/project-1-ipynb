{
 "cells": [
  {
   "cell_type": "markdown",
   "metadata": {},
   "source": [
    "# Building a ReAct Agent from Scratch\n",
    "\n",
    "This notebook implements a ReAct (Reasoning + Acting) agent using AWS Bedrock.\n",
    "\n",
    "The agent follows this pattern:\n",
    "1. **Thought**: Reasons about what to do\n",
    "2. **Action**: Decides an action to take\n",
    "3. **Observation**: Receives result from action\n",
    "4. **Repeat**: Continues until task is complete"
   ]
  },
  {
   "cell_type": "code",
   "execution_count": null,
   "metadata": {},
   "outputs": [],
   "source": [
    "# Install required packages\n",
    "!pip install boto3 -q"
   ]
  },
  {
   "cell_type": "code",
   "execution_count": null,
   "metadata": {},
   "outputs": [],
   "source": [
    "# Import Google Colab userdata for secure credential access\n",
    "from google.colab import userdata\n",
    "import boto3\n",
    "import json\n",
    "\n",
    "# Configure your AWS credentials using Colab secrets\n",
    "AWS_ACCESS_KEY_ID = userdata.get('awsid')  # Set this in Colab secrets\n",
    "AWS_SECRET_ACCESS_KEY = userdata.get('awssecret')  # Set this in Colab secrets\n",
    "AWS_REGION = \"us-east-1\"  # Change if needed\n",
    "\n",
    "# Initialize Bedrock client\n",
    "bedrock_runtime = boto3.client(\n",
    "    service_name='bedrock-runtime',\n",
    "    region_name=AWS_REGION,\n",
    "    aws_access_key_id=AWS_ACCESS_KEY_ID,\n",
    "    aws_secret_access_key=AWS_SECRET_ACCESS_KEY\n",
    ")\n",
    "\n",
    "print(\"✓ AWS Bedrock client initialized\")"
   ]
  },
  {
   "cell_type": "code",
   "execution_count": null,
   "metadata": {},
   "outputs": [],
   "source": [
    "# Import additional libraries\n",
    "import re\n",
    "from typing import List, Dict, Any"
   ]
  },
  {
   "cell_type": "code",
   "execution_count": null,
   "metadata": {},
   "outputs": [],
   "source": [
    "# Test the Bedrock client with a simple message\n",
    "def call_bedrock(messages: List[Dict[str, str]], system: str = \"\") -> str:\n",
    "    \"\"\"\n",
    "    Call AWS Bedrock Claude model with messages.\n",
    "    \"\"\"\n",
    "    body = {\n",
    "        \"anthropic_version\": \"bedrock-2023-05-31\",\n",
    "        \"max_tokens\": 4096,\n",
    "        \"temperature\": 0,\n",
    "        \"messages\": messages\n",
    "    }\n",
    "    \n",
    "    if system:\n",
    "        body[\"system\"] = system\n",
    "    \n",
    "    response = bedrock_runtime.invoke_model(\n",
    "        modelId=\"anthropic.claude-3-5-sonnet-20241022-v2:0\",\n",
    "        body=json.dumps(body)\n",
    "    )\n",
    "    \n",
    "    response_body = json.loads(response['body'].read())\n",
    "    return response_body['content'][0]['text']\n",
    "\n",
    "# Test it\n",
    "test_response = call_bedrock([{\"role\": \"user\", \"content\": \"Hello, world!\"}])\n",
    "print(test_response)"
   ]
  },
  {
   "cell_type": "markdown",
   "metadata": {},
   "source": [
    "## Define the Agent Class\n",
    "\n",
    "The agent maintains a conversation history and executes the ReAct loop."
   ]
  },
  {
   "cell_type": "code",
   "execution_count": null,
   "metadata": {},
   "outputs": [],
   "source": [
    "class Agent:\n",
    "    def __init__(self, system: str = \"\"):\n",
    "        \"\"\"\n",
    "        Initialize the agent with an optional system message.\n",
    "        \"\"\"\n",
    "        self.system = system\n",
    "        self.messages: List[Dict[str, str]] = []\n",
    "    \n",
    "    def __call__(self, message: str) -> str:\n",
    "        \"\"\"\n",
    "        Process a message and return the agent's response.\n",
    "        \"\"\"\n",
    "        # Add user message to conversation history\n",
    "        self.messages.append({\"role\": \"user\", \"content\": message})\n",
    "        \n",
    "        # Get response from the model\n",
    "        result = self.execute()\n",
    "        \n",
    "        # Add assistant message to conversation history\n",
    "        self.messages.append({\"role\": \"assistant\", \"content\": result})\n",
    "        \n",
    "        return result\n",
    "    \n",
    "    def execute(self) -> str:\n",
    "        \"\"\"\n",
    "        Execute the model call with current messages.\n",
    "        \"\"\"\n",
    "        return call_bedrock(self.messages, self.system)\n",
    "\n",
    "print(\"✓ Agent class defined\")"
   ]
  },
  {
   "cell_type": "markdown",
   "metadata": {},
   "source": [
    "## Create the ReAct System Prompt\n",
    "\n",
    "This prompt instructs the model how to use the Thought-Action-Observation loop."
   ]
  },
  {
   "cell_type": "code",
   "execution_count": null,
   "metadata": {},
   "outputs": [],
   "source": [
    "prompt = \"\"\"\n",
    "You run in a loop of Thought, Action, PAUSE, Observation.\n",
    "At the end of the loop you output an Answer.\n",
    "\n",
    "Use Thought to describe your thoughts about the question you have been asked.\n",
    "Use Action to run one of the actions available to you - then return PAUSE.\n",
    "Observation will be the result of running those actions.\n",
    "\n",
    "Your available actions are:\n",
    "\n",
    "calculate:\n",
    "e.g. calculate: 4 * 7 / 3\n",
    "Runs a calculation and returns the number - uses Python so be sure to use floating point syntax if necessary\n",
    "\n",
    "average_dog_weight:\n",
    "e.g. average_dog_weight: Collie\n",
    "returns average weight of a dog when given the breed\n",
    "\n",
    "Example session:\n",
    "\n",
    "Question: How much does a Bulldog weigh?\n",
    "Thought: I should look the dog's weight using average_dog_weight\n",
    "Action: average_dog_weight: Bulldog\n",
    "PAUSE\n",
    "\n",
    "You will be called again with this:\n",
    "\n",
    "Observation: A Bulldog weighs 51 lbs\n",
    "\n",
    "You then output:\n",
    "\n",
    "Answer: A Bulldog weighs 51 lbs\n",
    "\"\"\".strip()\n",
    "\n",
    "print(\"✓ System prompt defined\")\n",
    "print(\"\\nPrompt preview:\")\n",
    "print(prompt[:200] + \"...\")"
   ]
  },
  {
   "cell_type": "markdown",
   "metadata": {},
   "source": [
    "## Define Available Tools/Actions\n",
    "\n",
    "These are the functions the agent can call during execution."
   ]
  },
  {
   "cell_type": "code",
   "execution_count": null,
   "metadata": {},
   "outputs": [],
   "source": [
    "def calculate(operation: str) -> float:\n",
    "    \"\"\"\n",
    "    Perform a mathematical calculation.\n",
    "    \"\"\"\n",
    "    return eval(operation)\n",
    "\n",
    "def average_dog_weight(breed: str) -> str:\n",
    "    \"\"\"\n",
    "    Return the average weight of a dog breed.\n",
    "    This is a mock implementation with hardcoded values.\n",
    "    \"\"\"\n",
    "    breed = breed.strip().lower()\n",
    "    \n",
    "    weights = {\n",
    "        'scottish terrier': '20 lbs',\n",
    "        'border collie': '37 lbs',\n",
    "        'toy poodle': '7 lbs'\n",
    "    }\n",
    "    \n",
    "    return weights.get(breed, f\"Unknown breed: {breed}\")\n",
    "\n",
    "# Dictionary mapping action names to functions\n",
    "known_actions = {\n",
    "    \"calculate\": calculate,\n",
    "    \"average_dog_weight\": average_dog_weight\n",
    "}\n",
    "\n",
    "print(\"✓ Tools defined:\")\n",
    "for action in known_actions.keys():\n",
    "    print(f\"  - {action}\")"
   ]
  },
  {
   "cell_type": "markdown",
   "metadata": {},
   "source": [
    "## Manual Agent Execution (Step-by-step)\n",
    "\n",
    "Let's first run the agent manually to understand each step."
   ]
  },
  {
   "cell_type": "code",
   "execution_count": null,
   "metadata": {},
   "outputs": [],
   "source": [
    "# Initialize agent with the ReAct prompt\n",
    "agent = Agent(system=prompt)\n",
    "\n",
    "# Step 1: Ask the question\n",
    "result = agent(\"How much does a toy poodle weigh?\")\n",
    "print(\"Step 1 - Agent's first response:\")\n",
    "print(result)\n",
    "print(\"\\n\" + \"=\"*50 + \"\\n\")"
   ]
  },
  {
   "cell_type": "code",
   "execution_count": null,
   "metadata": {},
   "outputs": [],
   "source": [
    "# Step 2: Execute the action manually\n",
    "# Parse the action from the response\n",
    "action_match = re.search(r'Action: ([a-z_]+): (.+)', result, re.IGNORECASE)\n",
    "if action_match:\n",
    "    action_name = action_match.group(1).strip()\n",
    "    action_input = action_match.group(2).strip()\n",
    "    \n",
    "    print(f\"Executing: {action_name}({action_input})\")\n",
    "    \n",
    "    # Call the function\n",
    "    observation = known_actions[action_name](action_input)\n",
    "    print(f\"Observation: {observation}\")\n",
    "    \n",
    "    # Format the observation for the agent\n",
    "    next_prompt = f\"Observation: {observation}\"\n",
    "    print(\"\\n\" + \"=\"*50 + \"\\n\")"
   ]
  },
  {
   "cell_type": "code",
   "execution_count": null,
   "metadata": {},
   "outputs": [],
   "source": [
    "# Step 3: Pass observation back to agent\n",
    "result = agent(next_prompt)\n",
    "print(\"Step 3 - Agent's final response:\")\n",
    "print(result)\n",
    "print(\"\\n\" + \"=\"*50 + \"\\n\")"
   ]
  },
  {
   "cell_type": "code",
   "execution_count": null,
   "metadata": {},
   "outputs": [],
   "source": [
    "# View the complete message history\n",
    "print(\"Complete conversation history:\")\n",
    "for i, msg in enumerate(agent.messages):\n",
    "    print(f\"\\n{i+1}. {msg['role'].upper()}:\")\n",
    "    print(msg['content'][:200] + (\"...\" if len(msg['content']) > 200 else \"\"))"
   ]
  },
  {
   "cell_type": "markdown",
   "metadata": {},
   "source": [
    "## Complex Example (Manual)\n",
    "\n",
    "Let's try a more complex question that requires multiple steps."
   ]
  },
  {
   "cell_type": "code",
   "execution_count": null,
   "metadata": {},
   "outputs": [],
   "source": [
    "# Reinitialize the agent\n",
    "agent = Agent(system=prompt)\n",
    "\n",
    "# Ask a complex question\n",
    "question = \"I have two dogs, a border collie and a Scottish terrier. What is their combined weight?\"\n",
    "result = agent(question)\n",
    "print(\"Question:\", question)\n",
    "print(\"\\nAgent response:\")\n",
    "print(result)\n",
    "print(\"\\n\" + \"=\"*50)"
   ]
  },
  {
   "cell_type": "markdown",
   "metadata": {},
   "source": [
    "## Automated Agent Loop\n",
    "\n",
    "Now let's automate the entire ReAct loop."
   ]
  },
  {
   "cell_type": "code",
   "execution_count": null,
   "metadata": {},
   "outputs": [],
   "source": [
    "# Regex pattern to find actions in the response\n",
    "action_re = re.compile(r'^Action: (\\w+): (.*)$', re.MULTILINE)\n",
    "\n",
    "def query(question: str, max_turns: int = 5) -> str:\n",
    "    \"\"\"\n",
    "    Run the agent in an automated loop until it provides an answer.\n",
    "    \"\"\"\n",
    "    i = 0\n",
    "    agent = Agent(system=prompt)\n",
    "    next_prompt = question\n",
    "    \n",
    "    while i < max_turns:\n",
    "        i += 1\n",
    "        print(f\"\\n{'='*60}\")\n",
    "        print(f\"Turn {i}\")\n",
    "        print(f\"{'='*60}\")\n",
    "        \n",
    "        # Get agent's response\n",
    "        result = agent(next_prompt)\n",
    "        print(result)\n",
    "        \n",
    "        # Parse for actions\n",
    "        actions = [\n",
    "            (action_match.group(1), action_match.group(2))\n",
    "            for action_match in action_re.finditer(result)\n",
    "        ]\n",
    "        \n",
    "        # If there are actions to take\n",
    "        if actions:\n",
    "            action, action_input = actions[0]\n",
    "            \n",
    "            if action not in known_actions:\n",
    "                raise Exception(f\"Unknown action: {action}: {action_input}\")\n",
    "            \n",
    "            print(f\"\\n→ Executing: {action}({action_input})\")\n",
    "            observation = known_actions[action](action_input)\n",
    "            print(f\"→ Observation: {observation}\")\n",
    "            \n",
    "            next_prompt = f\"Observation: {observation}\"\n",
    "        else:\n",
    "            # No actions found, agent is done\n",
    "            print(\"\\n✓ Agent finished!\")\n",
    "            return result\n",
    "    \n",
    "    print(\"\\n⚠ Max turns reached\")\n",
    "    return result\n",
    "\n",
    "print(\"✓ Query function defined\")"
   ]
  },
  {
   "cell_type": "markdown",
   "metadata": {},
   "source": [
    "## Run the Automated Agent"
   ]
  },
  {
   "cell_type": "code",
   "execution_count": null,
   "metadata": {},
   "outputs": [],
   "source": [
    "# Simple question\n",
    "result = query(\"How much does a toy poodle weigh?\")"
   ]
  },
  {
   "cell_type": "code",
   "execution_count": null,
   "metadata": {},
   "outputs": [],
   "source": [
    "# Complex question requiring multiple steps\n",
    "result = query(\"I have two dogs, a border collie and a Scottish terrier. What is their combined weight?\")"
   ]
  },
  {
   "cell_type": "code",
   "execution_count": null,
   "metadata": {},
   "outputs": [],
   "source": [
    "# Question requiring calculation\n",
    "result = query(\"What is 37 multiplied by 42, divided by 3?\")"
   ]
  },
  {
   "cell_type": "markdown",
   "metadata": {},
   "source": [
    "## Summary\n",
    "\n",
    "In this notebook, we built a ReAct agent from scratch that:\n",
    "\n",
    "1. **Thinks** about problems using natural language reasoning\n",
    "2. **Acts** by calling available tools/functions\n",
    "3. **Observes** the results of those actions\n",
    "4. **Repeats** until it can provide a final answer\n",
    "\n",
    "Key components:\n",
    "- **Agent Class**: Manages conversation history and model calls\n",
    "- **System Prompt**: Instructs the model on the ReAct pattern\n",
    "- **Tools**: Functions the agent can call (calculate, average_dog_weight)\n",
    "- **Query Loop**: Automates the Thought-Action-Observation cycle\n",
    "\n",
    "This is a foundation for building more sophisticated agents with additional tools and capabilities!"
   ]
  }
 ],
 "metadata": {
  "kernelspec": {
   "display_name": "Python 3",
   "language": "python",
   "name": "python3"
  },
  "language_info": {
   "codemirror_mode": {
    "name": "ipython",
    "version": 3
   },
   "file_extension": ".py",
   "mimetype": "text/x-python",
   "name": "python",
   "nbconvert_exporter": "python",
   "pygments_lexer": "ipython3",
   "version": "3.8.0"
  }
 },
 "nbformat": 4,
 "nbformat_minor": 4
}
